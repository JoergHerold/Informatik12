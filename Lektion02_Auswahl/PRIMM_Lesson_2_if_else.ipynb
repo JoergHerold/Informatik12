{
 "cells": [
  {
   "cell_type": "markdown",
   "id": "33b9c847",
   "metadata": {},
   "source": [
    "# PRIMM – Lesson 2: Auswahl (if-else-selection)\n"
   ]
  },
  {
   "cell_type": "markdown",
   "id": "c8fbee55",
   "metadata": {},
   "source": [
    "## P – Vorhersagen (Predict)\n",
    "Lesen Sie das folgende **Starter-Programm** **ohne** es auszuführen und beantworten Sie schriftlich:\n",
    "- Was **glauben** Sie, macht das Programm insgesamt?\n",
    "- Welche **Eingaben** werden von Ihnen verlangt?\n",
    "- Welche **Ausgaben** erscheinen auf dem Bildschirm?\n",
    "- An welchen Stellen trifft das Programm **Entscheidungen**?"
   ]
  },
  {
   "cell_type": "code",
   "execution_count": null,
   "id": "35d82cf2",
   "metadata": {},
   "outputs": [],
   "source": [
    "# starter program\n",
    "\n",
    "def conversation():\n",
    "    print(\"Welcome to my conversation program\")\n",
    "    print()\n",
    "    print(\"Do you like cycling? Answer yes or no\")\n",
    "    answer = input()\n",
    "    if answer == \"yes\":\n",
    "        print(\"That's good - you will get very fit\")\n",
    "    else:\n",
    "        print(\"Perhaps you like some other sport. \")\n",
    "    print(\"Goodbye\")\n",
    "\n",
    "conversation()"
   ]
  },
  {
   "cell_type": "markdown",
   "id": "9274a8ba",
   "metadata": {},
   "source": [
    "## R – Ausführen (Run)\n",
    "Führen Sie das Starter-Programm aus. Notieren Sie:\n",
    "- Entsprach das Verhalten Ihren **Erwartungen**?\n",
    "- Falls **nicht**: Was genau war anders? Notieren Sie Abweichungen möglichst präzise."
   ]
  },
  {
   "cell_type": "markdown",
   "id": "e9f7081e",
   "metadata": {},
   "source": [
    "## I – Untersuchen (Investigate)\n",
    "Untersuchen Sie das Programm sorgfältig (Code **lesen**, mehrfach **ausführen**). Beantworten Sie **alle** Fragen:\n",
    "\n",
    "1. Was würde passieren, wenn das Programm das Wort `Print()` statt `print()` verwenden würde?\n",
    "2. Was passiert, wenn Sie beim Ausführen **„Yes“** statt **„yes“** oder **„no“** eingeben? (Probieren Sie es aus.)\n",
    "3. Wozu wird der Befehl **`def`** verwendet?\n",
    "4. Erläutern Sie kurz, **warum** das Programm `conversation()`am Ende beinhaltet?\n",
    "5. Warum steht am Ende der **`if`-Anweisung** und bei **`else`** jeweils ein Doppelpunkt (`:`)? Welche Rolle spielt die **Einrückung**?\n",
    "6. Was ist der Unterschied zwischen **`=`** (Zuweisung) und **`==`** (Vergleich)? Geben Sie je **ein Beispiel** aus dem Code an.\n",
    "7. Welchen Unterschied macht es, ob man `answer = input()` schreibt **oder** `answer = input(\"Select 1 or 2…\")`?\n",
    "8. Warum ist `print(\"Goodbye\")` **links** von der Code-Zeile darüber? Was passiert, wenn Sie die Einrückung **ändern**?\n"
   ]
  },
  {
   "cell_type": "markdown",
   "id": "05cd56fd",
   "metadata": {},
   "source": [
    "## M – Verändern (Modify)\n",
    "Bearbeiten Sie die folgenden Aufgaben **vollständig**:\n",
    "\n",
    "1. Ändern Sie das Programm so, dass es eine **Unterhaltung über Sport** führt. Sie können eigene Fragen ergänzen.\n",
    "2. Schreiben Sie eine Funktion **`cities()`** und fragen Sie: *\"How many cities are there in England?\"*  Verwenden Sie **`int(input(...))`**. Die Funktion **`int(...)`** wandelt die Eingabe (String) in eine ganze Zahl um. (Hinweis: Die korrekte Antwort ist 51)\n",
    "3. Schreiben Sie ein Programm, das die Benutzerin/den Benutzer bittet, eine Zahl **größer als 10** einzugeben. Geben Sie eine Rückmeldung, ob die Eingabe gültig war (denken Sie an `int(input())`).\n",
    "4. Fragen Sie nach der **Punktzahl** in einem Test. Ist sie **kleiner als 50**, dann geben Sie die Rückmeldung, dass der Test nicht bestanden wurde.\n",
    "5. Fragen Sie nach dem **Alter**. Ab **13 Jahren** gibt es die Rückmeldung, dass man eine **Zeitung austragen** darf. (Verwenden Sie `>=`.)\n",
    "6. Bitten Sie um eine **beliebige Zahl**. Solange die Zahl **nicht 99** ist (`!= 99`), ist alles in Ordnung."
   ]
  },
  {
   "cell_type": "code",
   "execution_count": null,
   "id": "8edbd11b",
   "metadata": {},
   "outputs": [],
   "source": [
    "# Aufgabe 1 – Sport-Unterhaltung: arbeiten Sie hier\n"
   ]
  },
  {
   "cell_type": "code",
   "execution_count": null,
   "id": "a008833a",
   "metadata": {},
   "outputs": [],
   "source": [
    "# Aufgabe 2 – cities():\n"
   ]
  },
  {
   "cell_type": "code",
   "execution_count": null,
   "id": "a62c00fc",
   "metadata": {},
   "outputs": [],
   "source": [
    "# Aufgabe 3 – Zahl > 10 prüfen:\n"
   ]
  },
  {
   "cell_type": "code",
   "execution_count": null,
   "id": "f397ca3e",
   "metadata": {},
   "outputs": [],
   "source": [
    "# Aufgabe 4 – Score prüfen (<50 \"durchgefallen\"):\n"
   ]
  },
  {
   "cell_type": "code",
   "execution_count": null,
   "id": "26b973d6",
   "metadata": {},
   "outputs": [],
   "source": [
    "# Aufgabe 5 – Alter prüfen (>=13):\n"
   ]
  },
  {
   "cell_type": "code",
   "execution_count": null,
   "id": "280b5718",
   "metadata": {},
   "outputs": [],
   "source": [
    "# Aufgabe 6 – Nicht 99:\n"
   ]
  },
  {
   "cell_type": "markdown",
   "id": "cecbb002",
   "metadata": {},
   "source": [
    "## M – Erstellen (Make)\n",
    "Schreiben Sie ein Programm, das prüft, ob eine Zahl **zwischen 1 und 20** liegt (verwenden Sie `and`).\n",
    "- Im Bereich → **positives Feedback**\n",
    "- **< 1** → *\"too low\"*\n",
    "- **> 20** → *\"too high\"*"
   ]
  },
  {
   "cell_type": "code",
   "execution_count": null,
   "id": "ccd2d3b3",
   "metadata": {},
   "outputs": [],
   "source": [
    "# Make-Aufgabe – Bereichsprüfung 1–20:\n"
   ]
  },
  {
   "cell_type": "markdown",
   "id": "7f211d80-e395-4265-a7ad-6825f06634bf",
   "metadata": {},
   "source": [
    "# Schlüsselbegriffe – Lektion 2: Auswahl (if-else-Selection)\r\n",
    "\r\n",
    "In dieser Lektion haben Sie gelernt, wie man Programme schreibt, die **Entscheidungen treffen**.  \r\n",
    "Mit `if` und `else` können Programme **unterschiedliche Aktionen ausführen**, abhängig von der Eingabe o derder Bedingung.  \r\n",
    "Diese Technik wird als **Auswahl (Selection)** bezeichnet.\r\n",
    "\r\n",
    "---\r\n",
    "\r\n",
    "## Schlüsselbegriffe (Key Concepts)\r\n",
    "\r\n",
    "| Begriff | Bedeutung | Wie in Python? |\r\n",
    "|---|---|---|\r\n",
    "| **Auswahl (Selection)** | Ermöglicht es einem Programm, zwischen verschiedenen Handlungswegen zu wählen. imgimg src=\"IMG/image3.png\" width=\"300\"> |\r\n",
    "| **Bedingung (Condition)** | Ausdruck, der auf `True` oder `False` geprüft wird.img<img src=\"IMG/image4.png\" width=\"300\"> |\r\n",
    "| **Verzweigung (Branching)** | Der Teil des Programms, der je nach erfüllter Bedingung ausgeführt wird. | Codeblöcke unter `if` oder `else` |\r\n",
    "| **Vergleichsoperatoren (Comparison Operators)** | Werden verwendet, um Werte zu vergleichen. | `==`, `!=`, `<`, `>`, `<=`, `>=` |\r\n",
    "| **Einrückung (Indentation)** | Gibt an, welche Codezeilen zu einer bestimmten Anweisung gehören. | 4 Leerzeichen (z. B. nach `if:`) |\r\n",
    "| **Testen (Testing)** | Überprüfen, ob jede mögliche Eingabe zu einem korrekten Ergebnis führt. | Durch systematisches Ausführen aller Pfade |\r\n",
    "\r\n",
    "---\r\n",
    "\r\n",
    "**Zusammenfassung:**  \r\n",
    "Mit `if` und `else` können Programme **intelligente Entscheidungen** treffen.  \r\n",
    "Das Verstehen von **Bedingungen**, **Vergleichen** und **Einrückungen** ist entscheidend, um **korrektes Verhalten** in Prog\n",
    "rammen sicherzustellen.\r\n"
   ]
  },
  {
   "cell_type": "code",
   "execution_count": null,
   "id": "b1bc9d02-c420-4581-9743-1844ee7b693f",
   "metadata": {},
   "outputs": [],
   "source": []
  }
 ],
 "metadata": {
  "kernelspec": {
   "display_name": "Python [conda env:Orange]",
   "language": "python",
   "name": "conda-env-Orange-py"
  },
  "language_info": {
   "codemirror_mode": {
    "name": "ipython",
    "version": 3
   },
   "file_extension": ".py",
   "mimetype": "text/x-python",
   "name": "python",
   "nbconvert_exporter": "python",
   "pygments_lexer": "ipython3",
   "version": "3.11.8"
  }
 },
 "nbformat": 4,
 "nbformat_minor": 5
}
