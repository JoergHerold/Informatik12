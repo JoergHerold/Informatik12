{
 "cells": [
  {
   "cell_type": "markdown",
   "metadata": {
    "tags": []
   },
   "source": [
    "# Lekton 01b: Grundlagen der Programmierung - Python \n"
   ]
  },
  {
   "cell_type": "markdown",
   "metadata": {},
   "source": [
    "## 1.1 Operatoren und Operanden\n",
    "Damit Variablen miteinander agieren können, benötigen sie sog. Operatoren. Diese führen bestimmte Aktionen auf den sog. Operanden aus. Dies können Variablen oder sonstige Ausdrücke sein. Ein Ausdruck ist beinahe alles, was einen Wert hat. Variablen, Ziffern, Text sind Beispiele für Ausdrücke. In den nachfolgenden Abschnitten schauen wir uns die wichtigsten Typen von Operatoren an.\n",
    "\n",
    "**Überblick über einige wichtige Operatoren:**\n",
    "\n",
    "*Rechen-,String- und Vergleichsoperatoren*\n"
   ]
  },
  {
   "cell_type": "markdown",
   "metadata": {},
   "source": [
    "<table class=MsoTableGrid border=1 cellspacing=0 cellpadding=0\r\n",
    " style='border-collapse:collapse;border:none;mso-border-alt:solid windowtext 1.0pt;\r\n",
    " mso-yfti-tbllook:1184;mso-padding-alt:0cm 5.4pt 0cm 5.4pt;mso-border-insideh:\r\n",
    " 1.0pt solid windowtext;mso-border-insidev:1.0pt solid windowtext'>\r\n",
    " <tr style='mso-yfti-irow:0;mso-yfti-firstrow:yes'>\r\n",
    "  <td width=94 valign=top style='width:70.65pt;border:solid windowtext 1.0pt;\r\n",
    "  padding:0cm 5.4pt 0cm 5.4pt'>\r\n",
    "  <p class=MsoNormal style='margin-bottom:0cm;line-height:115%'><b><span\r\n",
    "  style='font-size:10.0pt;line-height:115%;font-family:\"Calibri Light\",sans-serif;\r\n",
    "  mso-fareast-font-family:Calibri;mso-font-kerning:0pt;mso-ligatures:none'>Operator<o:p></o:p></span></b></p>\r\n",
    "  </td>\r\n",
    "  <td width=538 valign=top style='width:403.65pt;border:solid windowtext 1.0pt;\r\n",
    "  border-left:none;mso-border-left-alt:solid windowtext 1.0pt;padding:0cm 5.4pt 0cm 5.4pt'>\r\n",
    "  <p class=MsoNormal style='margin-bottom:0cm;line-height:115%'><b><span\r\n",
    "  style='font-size:10.0pt;line-height:115%;font-family:\"Calibri Light\",sans-serif;\r\n",
    "  mso-fareast-font-family:Calibri;mso-font-kerning:0pt;mso-ligatures:none'>Funktion<o:p></o:p></span></b></p>\r\n",
    "  </td>\r\n",
    " </tr>\r\n",
    " <tr style='mso-yfti-irow:1'>\r\n",
    "  <td width=94 valign=top style='width:70.65pt;border:solid windowtext 1.0pt;\r\n",
    "  border-top:none;mso-border-top-alt:solid windowtext 1.0pt;padding:0cm 5.4pt 0cm 5.4pt'>\r\n",
    "  <p class=MsoNormal style='margin-bottom:0cm;line-height:115%'><span\r\n",
    "  style='font-size:10.0pt;line-height:115%;font-family:Consolas;mso-fareast-font-family:\r\n",
    "  Calibri;mso-bidi-font-family:\"Calibri Light\";mso-font-kerning:0pt;mso-ligatures:\r\n",
    "  none'>+ - <o:p></o:p></span></p>\r\n",
    "  </td>\r\n",
    "  <td width=538 valign=top style='width:403.65pt;border-top:none;border-left:\r\n",
    "  none;border-bottom:solid windowtext 1.0pt;border-right:solid windowtext 1.0pt;\r\n",
    "  mso-border-top-alt:solid windowtext 1.0pt;mso-border-left-alt:solid windowtext 1.0pt;\r\n",
    "  padding:0cm 5.4pt 0cm 5.4pt'>\r\n",
    "  <p class=MsoNormal style='margin-bottom:0cm;line-height:115%'><span\r\n",
    "  style='font-size:10.0pt;line-height:115%;font-family:\"Calibri Light\",sans-serif;\r\n",
    "  mso-fareast-font-family:Calibri;mso-font-kerning:0pt;mso-ligatures:none'>Vorzeichen<o:p></o:p></span></p>\r\n",
    "  </td>\r\n",
    " </tr>\r\n",
    " <tr style='mso-yfti-irow:2'>\r\n",
    "  <td width=94 valign=top style='width:70.65pt;border:solid windowtext 1.0pt;\r\n",
    "  border-top:none;mso-border-top-alt:solid windowtext 1.0pt;padding:0cm 5.4pt 0cm 5.4pt'>\r\n",
    "  <p class=MsoNormal style='margin-bottom:0cm;line-height:115%'><span\r\n",
    "  style='font-size:10.0pt;line-height:115%;font-family:Consolas;mso-fareast-font-family:\r\n",
    "  Calibri;mso-bidi-font-family:\"Calibri Light\";mso-font-kerning:0pt;mso-ligatures:\r\n",
    "  none'>+ - * /<o:p></o:p></span></p>\r\n",
    "  </td>\r\n",
    "  <td width=538 valign=top style='width:403.65pt;border-top:none;border-left:\r\n",
    "  none;border-bottom:solid windowtext 1.0pt;border-right:solid windowtext 1.0pt;\r\n",
    "  mso-border-top-alt:solid windowtext 1.0pt;mso-border-left-alt:solid windowtext 1.0pt;\r\n",
    "  padding:0cm 5.4pt 0cm 5.4pt'>\r\n",
    "  <p class=MsoNormal style='margin-bottom:0cm;line-height:115%'><span\r\n",
    "  style='font-size:10.0pt;line-height:115%;font-family:\"Calibri Light\",sans-serif;\r\n",
    "  mso-fareast-font-family:Calibri;mso-font-kerning:0pt;mso-ligatures:none'>Grundrechenarten,\r\n",
    "  liefern <span class=SpellE>float</span> Ergebnisse!<o:p></o:p></span></p>\r\n",
    "  </td>\r\n",
    " </tr>\r\n",
    " <tr style='mso-yfti-irow:3'>\r\n",
    "  <td width=94 valign=top style='width:70.65pt;border:solid windowtext 1.0pt;\r\n",
    "  border-top:none;mso-border-top-alt:solid windowtext 1.0pt;padding:0cm 5.4pt 0cm 5.4pt'>\r\n",
    "  <p class=MsoNormal style='margin-bottom:0cm;line-height:115%'><span\r\n",
    "  style='font-size:10.0pt;line-height:115%;font-family:Consolas;mso-fareast-font-family:\r\n",
    "  Calibri;mso-bidi-font-family:\"Calibri Light\";mso-font-kerning:0pt;mso-ligatures:\r\n",
    "  none'>//<o:p></o:p></span></p>\r\n",
    "  </td>\r\n",
    "  <td width=538 valign=top style='width:403.65pt;border-top:none;border-left:\r\n",
    "  none;border-bottom:solid windowtext 1.0pt;border-right:solid windowtext 1.0pt;\r\n",
    "  mso-border-top-alt:solid windowtext 1.0pt;mso-border-left-alt:solid windowtext 1.0pt;\r\n",
    "  background:white;padding:0cm 5.4pt 0cm 5.4pt'>\r\n",
    "  <p class=MsoNormal style='margin-bottom:0cm;line-height:115%'><span\r\n",
    "  style='font-size:10.0pt;line-height:115%;font-family:\"Calibri Light\",sans-serif;\r\n",
    "  mso-fareast-font-family:Calibri;color:black;mso-color-alt:windowtext;\r\n",
    "  mso-font-kerning:0pt;mso-ligatures:none'>Ganzzahlige Division (20 // 6 ergibt\r\n",
    "  3)</span><span style='font-size:10.0pt;line-height:115%;font-family:\"Calibri Light\",sans-serif;\r\n",
    "  mso-fareast-font-family:Calibri;mso-font-kerning:0pt;mso-ligatures:none'><o:p></o:p></span></p>\r\n",
    "  </td>\r\n",
    " </tr>\r\n",
    " <tr style='mso-yfti-irow:4'>\r\n",
    "  <td width=94 valign=top style='width:70.65pt;border:solid windowtext 1.0pt;\r\n",
    "  border-top:none;mso-border-top-alt:solid windowtext 1.0pt;padding:0cm 5.4pt 0cm 5.4pt'>\r\n",
    "  <p class=MsoNormal style='margin-bottom:0cm;line-height:115%'><span\r\n",
    "  style='font-size:10.0pt;line-height:115%;font-family:Consolas;mso-fareast-font-family:\r\n",
    "  Calibri;mso-bidi-font-family:\"Calibri Light\";mso-font-kerning:0pt;mso-ligatures:\r\n",
    "  none'>%<o:p></o:p></span></p>\r\n",
    "  </td>\r\n",
    "  <td width=538 valign=top style='width:403.65pt;border-top:none;border-left:\r\n",
    "  none;border-bottom:solid windowtext 1.0pt;border-right:solid windowtext 1.0pt;\r\n",
    "  mso-border-top-alt:solid windowtext 1.0pt;mso-border-left-alt:solid windowtext 1.0pt;\r\n",
    "  background:white;padding:0cm 5.4pt 0cm 5.4pt'>\r\n",
    "  <p class=MsoNormal style='margin-bottom:0cm;line-height:115%'><span\r\n",
    "  style='font-size:10.0pt;line-height:115%;font-family:\"Calibri Light\",sans-serif;\r\n",
    "  mso-fareast-font-family:Calibri;color:black;mso-color-alt:windowtext;\r\n",
    "  mso-font-kerning:0pt;mso-ligatures:none'>Modulo = Rest der ganzzahligen\r\n",
    "  Division (20%6 = 2)</span><span style='font-size:10.0pt;line-height:115%;\r\n",
    "  font-family:\"Calibri Light\",sans-serif;mso-fareast-font-family:Calibri;\r\n",
    "  mso-font-kerning:0pt;mso-ligatures:none'><o:p></o:p></span></p>\r\n",
    "  </td>\r\n",
    " </tr>\r\n",
    " <tr style='mso-yfti-irow:5'>\r\n",
    "  <td width=94 valign=top style='width:70.65pt;border:solid windowtext 1.0pt;\r\n",
    "  border-top:none;mso-border-top-alt:solid windowtext 1.0pt;padding:0cm 5.4pt 0cm 5.4pt'>\r\n",
    "  <p class=MsoNormal style='margin-bottom:0cm;line-height:115%'><span\r\n",
    "  style='font-size:10.0pt;line-height:115%;font-family:Consolas;mso-fareast-font-family:\r\n",
    "  Calibri;mso-bidi-font-family:\"Calibri Light\";mso-font-kerning:0pt;mso-ligatures:\r\n",
    "  none'>**<o:p></o:p></span></p>\r\n",
    "  </td>\r\n",
    "  <td width=538 valign=top style='width:403.65pt;border-top:none;border-left:\r\n",
    "  none;border-bottom:solid windowtext 1.0pt;border-right:solid windowtext 1.0pt;\r\n",
    "  mso-border-top-alt:solid windowtext 1.0pt;mso-border-left-alt:solid windowtext 1.0pt;\r\n",
    "  background:white;padding:0cm 5.4pt 0cm 5.4pt'>\r\n",
    "  <p class=MsoNormal style='margin-bottom:0cm;line-height:115%'><span\r\n",
    "  style='font-size:10.0pt;line-height:115%;font-family:\"Calibri Light\",sans-serif;\r\n",
    "  mso-fareast-font-family:Calibri;color:black;mso-color-alt:windowtext;\r\n",
    "  mso-font-kerning:0pt;mso-ligatures:none'>Exponentialfunktion bzw. Hochstellen\r\n",
    "  (2**3=8)</span><span style='font-size:10.0pt;line-height:115%;font-family:\r\n",
    "  \"Calibri Light\",sans-serif;mso-fareast-font-family:Calibri;mso-font-kerning:\r\n",
    "  0pt;mso-ligatures:none'><o:p></o:p></span></p>\r\n",
    "  </td>\r\n",
    " </tr>\r\n",
    " <tr style='mso-yfti-irow:6'>\r\n",
    "  <td width=94 valign=top style='width:70.65pt;border:solid windowtext 1.0pt;\r\n",
    "  border-top:none;mso-border-top-alt:solid windowtext 1.0pt;padding:0cm 5.4pt 0cm 5.4pt'>\r\n",
    "  <p class=MsoNormal style='margin-bottom:0cm;line-height:115%'><span\r\n",
    "  style='font-size:10.0pt;line-height:115%;font-family:Consolas;mso-fareast-font-family:\r\n",
    "  Calibri;mso-bidi-font-family:\"Calibri Light\";mso-font-kerning:0pt;mso-ligatures:\r\n",
    "  none'>+=<o:p></o:p></span></p>\r\n",
    "  </td>\r\n",
    "  <td width=538 valign=top style='width:403.65pt;border-top:none;border-left:\r\n",
    "  none;border-bottom:solid windowtext 1.0pt;border-right:solid windowtext 1.0pt;\r\n",
    "  mso-border-top-alt:solid windowtext 1.0pt;mso-border-left-alt:solid windowtext 1.0pt;\r\n",
    "  background:white;padding:0cm 5.4pt 0cm 5.4pt'>\r\n",
    "  <p class=MsoNormal style='margin-bottom:0cm;line-height:115%'><span\r\n",
    "  style='font-size:10.0pt;line-height:115%;font-family:\"Calibri Light\",sans-serif;\r\n",
    "  mso-fareast-font-family:Calibri;color:black;mso-color-alt:windowtext;\r\n",
    "  mso-font-kerning:0pt;mso-ligatures:none'>Zuweisung und Addition x+=3\r\n",
    "  entspricht x=x+3 (geht auch mit -=,*=,/=)</span><span style='font-size:10.0pt;\r\n",
    "  line-height:115%;font-family:\"Calibri Light\",sans-serif;mso-fareast-font-family:\r\n",
    "  Calibri;mso-font-kerning:0pt;mso-ligatures:none'><o:p></o:p></span></p>\r\n",
    "  </td>\r\n",
    " </tr>\r\n",
    " <tr style='mso-yfti-irow:7;mso-yfti-lastrow:yes'>\r\n",
    "  <td width=94 valign=top style='width:70.65pt;border:solid windowtext 1.0pt;\r\n",
    "  border-top:none;mso-border-top-alt:solid windowtext 1.0pt;padding:0cm 5.4pt 0cm 5.4pt'>\r\n",
    "  <p class=MsoNormal style='margin-bottom:0cm;line-height:115%'><span\r\n",
    "  style='font-size:10.0pt;line-height:115%;font-family:Consolas;mso-fareast-font-family:\r\n",
    "  Calibri;mso-bidi-font-family:\"Calibri Light\";mso-font-kerning:0pt;mso-ligatures:\r\n",
    "  none'>&lt; &gt; &lt;=<span style='mso-spacerun:yes'>  </span>&gt;=<o:p></o:p></span></p>\r\n",
    "  </td>\r\n",
    "  <td width=538 valign=top style='width:403.65pt;border-top:none;border-left:\r\n",
    "  none;border-bottom:solid windowtext 1.0pt;border-right:solid windowtext 1.0pt;\r\n",
    "  mso-border-top-alt:solid windowtext 1.0pt;mso-border-left-alt:solid windowtext 1.0pt;\r\n",
    "  background:white;padding:0cm 5.4pt 0cm 5.4pt'>\r\n",
    "  <p class=MsoNormal style='margin-bottom:0cm;line-height:115%'><span\r\n",
    "  style='font-size:10.0pt;line-height:115%;font-family:\"Calibri Light\",sans-serif;\r\n",
    "  mso-fareast-font-family:Calibri;color:black;mso-color-alt:windowtext;\r\n",
    "  mso-font-kerning:0pt;mso-ligatures:none'>Kleiner, größer, kleiner gleich,\r\n",
    "  größer gleich</span><span style='font-size:10.0pt;line-height:115%;\r\n",
    "  font-family:\"Calibri Light\",sans-serif;mso-fareast-font-family:Calibri;\r\n",
    "  mso-font-kerning:0pt;mso-ligatures:none'><o:p></o:p></span></p>\r\n",
    "  </td>\r\n",
    " </tr>\r\n",
    "</table>\r\n"
   ]
  },
  {
   "cell_type": "markdown",
   "metadata": {},
   "source": [
    "**Erste Rechenaufgaben**\n",
    "\n",
    "- 1+2\n",
    "- 4*(3+2)\n",
    "- 3-6\n",
    "- 9/4 (Vorsicht: Geteilt ist kein :  , sondern ein / )\n",
    "- Rest berechnen von 11 geteilt durch 2 (mit Modulo-Operator %)\n",
    "- 4 hoch 3 (Exponentialfunktionen mit **)"
   ]
  },
  {
   "cell_type": "code",
   "execution_count": null,
   "metadata": {},
   "outputs": [],
   "source": [
    "# ihr Code hier"
   ]
  },
  {
   "cell_type": "markdown",
   "metadata": {},
   "source": [
    "**Zusatzaufgabe:** Experimentieren Sie mit eigenen Rechenaufgaben!"
   ]
  },
  {
   "cell_type": "markdown",
   "metadata": {},
   "source": [
    "<!DOCTYPE html>\n",
    "<html lang=\"de\">\n",
    "<head>\n",
    "    <meta charset=\"UTF-8\">\n",
    "    <meta name=\"viewport\" content=\"width=device-width, initial-scale=1.0\">\n",
    "</head>\n",
    "<body>\n",
    "    <h2>1.2 Einschub: Wie Programmieren funktioniert</h2>\n",
    "    <p><b><i>Algorithmus</i></b>: Zunächst muss das Problem oder die Aufgabe in ein allgemeines Rezept übersetzt werden. Dieses soll die Schritte beschreiben, die der Computer ausführen muss, um das gewünschte Ergebnis zu erreichen. Das Rezept wird in der Fachsprache als Algorithmus bezeichnet. Die Erstellung des Rezeptes können Sie zunächst auch als Pseudocode vornehmen. Ein Pseudocode kann nicht von Computern gelesen werden, da er der höheren Programmiersprachen nur ähnelt und gemischt mit natürlicher Sprache und mathematischer Notation ist.</p>\n",
    "    <p><b><i>Programm schreiben</i></b>: Als nächstes übersetzen Sie Ihr Rezept in Anweisungen einer Programmiersprache. In dieser Stufe sprechen wir dann vom Programmieren. Das Ergebnis nennt man dann ein Programm oder Quellcode.</p>\n",
    "    <p><b><i>Programm ausführen</i></b>: Nun übergeben Sie Ihren Quellcode an den Computer. Dieser beginnt Ihre Anweisungen auszuführen. Man spricht von interpretieren, ausführen oder auswerten des Codes.</p>\n",
    "</body>\n",
    "</html>\n"
   ]
  },
  {
   "cell_type": "markdown",
   "metadata": {},
   "source": [
    "## 1.3 Grundlegende Datentypen in Python\n",
    "\n",
    "Python kennt einige einfache, aber wichtige Datentypen. Sie bestimmen, welche Art von Information eine Variable speichern kann."
   ]
  },
  {
   "cell_type": "markdown",
   "metadata": {},
   "source": [
    "## Die vier wichtigsten Datentypen\n",
    "\n",
    "| Datentyp | Bedeutung | Beispiel |\n",
    "|-----------|------------|-----------|\n",
    "| `int` | Ganze Zahl | `x = 5` |\n",
    "| `float` | Gleitkommazahl | `pi = 3.14` |\n",
    "| `str` | Zeichenkette (Text) | `name = \"Anna\"` |\n",
    "| `bool` | Wahrheitswert | `wahr = True`, `falsch = False` |"
   ]
  },
  {
   "cell_type": "markdown",
   "metadata": {},
   "source": [
    "## Umwandlung von Datentypen\n",
    "\n",
    "Manchmal müssen Werte von einem Typ in einen anderen umgewandelt werden."
   ]
  },
  {
   "cell_type": "code",
   "execution_count": null,
   "metadata": {},
   "outputs": [],
   "source": [
    "# int -> float\n",
    "x = 5\n",
    "print(float(x))  # 5.0\n",
    "\n",
    "# float -> int (Nachkommastellen gehen verloren)\n",
    "y = 3.9\n",
    "print(int(y))    # 3\n",
    "\n",
    "# str -> int / float\n",
    "s1 = \"42\"\n",
    "s2 = \"3.14\"\n",
    "print(int(s1))        # 42\n",
    "print(float(s2))      # 3.14\n",
    "\n",
    "# int -> str\n",
    "zahl = 7\n",
    "text = str(zahl)\n",
    "print(text + \" Tage\") # '7 Tage'"
   ]
  },
  {
   "cell_type": "markdown",
   "metadata": {},
   "source": [
    "## Übungen zu Datentypen und Umwandlungen\n",
    "Schreiben Sie jeweils den passenden Code unter die Aufgabenstellung."
   ]
  },
  {
   "cell_type": "markdown",
   "metadata": {},
   "source": [
    "## Aufgabe 1: Eingabe und Umwandlung\n",
    "Fragen Sie den Benutzer nach seinem Alter (z. B. `\"18\"`) und wandeln Sie die Eingabe in eine ganze Zahl um.  \n",
    "Geben Sie anschließend eine passende Ausgabe aus, z. B. `\"Sie sind 18 Jahre alt.\"`."
   ]
  },
  {
   "cell_type": "code",
   "execution_count": null,
   "metadata": {},
   "outputs": [],
   "source": [
    "# Ihr Code hier"
   ]
  },
  {
   "cell_type": "markdown",
   "metadata": {},
   "source": [
    "## Aufgabe 2: Zahl in Text umwandeln\n",
    "Wandeln Sie die Zahl `5` in einen String um und fügen Sie `\" Euro\"` an."
   ]
  },
  {
   "cell_type": "code",
   "execution_count": null,
   "metadata": {},
   "outputs": [],
   "source": [
    "# Ihr Code hier"
   ]
  }
 ],
 "metadata": {
  "kernelspec": {
   "display_name": "Python [conda env:Orange]",
   "language": "python",
   "name": "conda-env-Orange-py"
  },
  "language_info": {
   "codemirror_mode": {
    "name": "ipython",
    "version": 3
   },
   "file_extension": ".py",
   "mimetype": "text/x-python",
   "name": "python",
   "nbconvert_exporter": "python",
   "pygments_lexer": "ipython3",
   "version": "3.11.8"
  },
  "primm_note": {
   "last_extended": "2025-10-08T06:16:17.050751",
   "role": "student"
  }
 },
 "nbformat": 4,
 "nbformat_minor": 4
}
