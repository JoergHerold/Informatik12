{
 "cells": [
  {
   "cell_type": "markdown",
   "id": "35fc5042",
   "metadata": {},
   "source": [
    "\n",
    "# Lektion 3: Mehrere Auswahlmöglichkeiten (`elif`)\n",
    "\n",
    "> **Ziel:** Programme mit mehr als zwei Auswahlmöglichkeiten schreiben und ein Quiz erstellen.  \n"
   ]
  },
  {
   "cell_type": "markdown",
   "id": "2fa9becf",
   "metadata": {},
   "source": [
    "\n",
    "## P – Predict (Vorhersagen)\n",
    "\n",
    "**Aufgabe:** Was wird bei Eingabe `2` ausgegeben? Notieren Sie Ihre Vermutung hier.\n"
   ]
  },
  {
   "cell_type": "code",
   "execution_count": null,
   "id": "5566dfc5",
   "metadata": {},
   "outputs": [],
   "source": [
    "\n",
    "def cooking():\n",
    "    print(\"Meal planner\")\n",
    "    print()\n",
    "    print(\"1. Chicken curry\")\n",
    "    print(\"2. Veggie lasagne\")\n",
    "    print(\"3. Burger and salad\")\n",
    "    print()\n",
    "    print(\"Which of these meals is your favourite? (1, 2 or 3) \")\n",
    "    answer = input()\n",
    "    if answer == \"1\":\n",
    "        print(\"Chicken curry coming up\")\n",
    "    elif answer == \"2\":\n",
    "        print(\"Veggie lasagne coming up\")\n",
    "    else:\n",
    "        print(\"Burger and salad coming up!\")\n",
    "    print(\"Enjoy!\")\n",
    "\n"
   ]
  },
  {
   "cell_type": "markdown",
   "id": "79f0d1d9",
   "metadata": {},
   "source": [
    "\n",
    "## R – Run (Ausführen)\n",
    "\n",
    "Führen Sie die Funktion `cooking()` aus und testen Sie die Eingaben `1`, `2` und `3`.\n"
   ]
  },
  {
   "cell_type": "markdown",
   "id": "f8a7ba95",
   "metadata": {},
   "source": [
    "\n",
    "## I – Investigate (Untersuchen)\n",
    "\n",
    "1. Was passiert bei einer Eingabe **außerhalb** von `1`, `2`, `3`?  \n",
    "2. Wie könnte man das benutzerfreundlicher gestalten? \n"
   ]
  },
  {
   "cell_type": "markdown",
   "id": "61e7d731",
   "metadata": {},
   "source": [
    "\n",
    "## M – Modify (Verändern)\n",
    "\n",
    "- Ersetzen Sie die Gerichte durch Mahlzeiten Ihrer Wahl.  \n",
    "- Fügen Sie eine **vierte Option** hinzu, z. B. „None of these“.  \n",
    "- Testen Sie erneut alle Fälle.\n"
   ]
  },
  {
   "cell_type": "code",
   "execution_count": null,
   "id": "425ab008",
   "metadata": {},
   "outputs": [],
   "source": [
    "\n",
    "# Passen Sie den Code aus der cooking()-Funktion an:\n",
    "# - Eigene Gerichte\n",
    "# - Vierte Option\n",
    "# - Sinnvolle Ausgabe\n",
    "\n",
    "def cooking_v2():\n",
    "    print(\"Meal planner\")\n",
    "    print()\n",
    "    print(\"1. Gericht A\")\n",
    "    print(\"2. Gericht B\")\n",
    "    print(\"3. Gericht C\")\n",
    "    print(\"4. None of these\")\n",
    "    print()\n",
    "    answer = input(\"Choose 1, 2, 3 or 4: \")\n",
    "    if answer == \"1\":\n",
    "        print(\"Gericht A coming up\")\n",
    "    elif answer == \"2\":\n",
    "        print(\"Gericht B coming up\")\n",
    "    elif answer == \"3\":\n",
    "        print(\"Gericht C coming up\")\n",
    "    elif answer == \"4\":\n",
    "        print(\"Alles klar – kein Gericht ausgewählt.\")\n",
    "    else:\n",
    "        print(\"Ungültige Eingabe.\")\n",
    "\n",
    "# cooking_v2()\n"
   ]
  },
  {
   "cell_type": "markdown",
   "id": "9e132c90",
   "metadata": {},
   "source": [
    "\n",
    "## M – Make (Erstellen): Geografie-Quiz mit `if`–`elif`–`else` \n",
    "\n",
    "**Auftrag:** Erstellen Sie ein Quiz mit **5 Fragen**, jede Frage hat **a/b/c** als Optionen. \n",
    "Das Quiz sollte am Ende die erzielten Punkte für den Spieler ausgeben\n"
   ]
  },
  {
   "cell_type": "code",
   "execution_count": null,
   "id": "99107323",
   "metadata": {},
   "outputs": [],
   "source": [
    "#hier ihr Code"
   ]
  },
  {
   "cell_type": "markdown",
   "id": "2db091b2",
   "metadata": {},
   "source": [
    "\n",
    "## Peer Assessment – Anleitung & Bewertungsraster\n",
    "\n",
    "**Anleitung (kurz):**\n",
    "1. Tauschen Sie Ihr Quiz mit einer anderen Gruppe.\n",
    "2. Führen Sie das Quiz **einmal komplett** durch (alle 5 Fragen).\n",
    "3. Prüfen Sie: Läuft es fehlerfrei? Sind die Fragen klar? Ist die Darstellung sauber?\n",
    "4. Tragen Sie Ihre Einschätzung in die Tabelle ein und geben Sie **einen konkreten Verbesserungsvorschlag**.\n",
    "\n",
    "**Bewertungsraster:**  \n",
    "Tragen Sie pro Kriterium **6 / 4 / 2** ein.\n"
   ]
  },
  {
   "cell_type": "markdown",
   "id": "9f707d18",
   "metadata": {},
   "source": [
    "\n",
    "| Kriterium                 | 6 | 4 | 2 | Kommentar (konkret)                 |\n",
    "|---------------------------|---|---|---|-------------------------------------|\n",
    "| Läuft ohne Fehler         |   |   |   |                                     |\n",
    "| Fragen sind klar/sinnvoll |   |   |   |                                     |\n",
    "| Darstellung/Formatierung  |   |   |   |                                     |\n",
    "| Gesamteindruck            |   |   |   |                                     |\n"
   ]
  },
  {
   "cell_type": "markdown",
   "id": "73e0ae83",
   "metadata": {},
   "source": [
    "\n",
    "---\n",
    "\n",
    "## Key Concept \n",
    "\n",
    "<table>\n",
    "  <tr>\n",
    "    <th>Begriff</th>\n",
    "    <th>Erklärung</th>\n",
    "    <th>Umsetzen</th>\n",
    "  </tr>\n",
    "  <tr>\n",
    "    <td><code>if</code></td>\n",
    "    <td>Erste Bedingung: wird als Erstes geprüft. Trifft sie zu, werden <code>elif</code>/<code>else</code> übersprungen.</td>\n",
    "    <td>\n",
    "      <pre>\n",
    "if x == 1:\n",
    "    print(\"Eins\")\n",
    "      </pre>\n",
    "    </td>\n",
    "  </tr>\n",
    "  <tr>\n",
    "    <td><code>elif</code></td>\n",
    "    <td>Weitere Fälle: werden nur geprüft, wenn alle vorherigen Bedingungen FALSE waren. Beliebig oft möglich.</td>\n",
    "    <td>\n",
    "      <pre>\n",
    "elif x == 2:\n",
    "    print(\"Zwei\")\n",
    "      </pre>\n",
    "    </td>\n",
    "  </tr>\n",
    "  <tr>\n",
    "    <td><code>else</code></td>\n",
    "    <td>Standardfall: fängt alle übrigen Fälle ab; kein Vergleich hinter <code>else</code>.</td>\n",
    "    <td>\n",
    "      <pre>\n",
    "else:\n",
    "    print(\"Etwas anderes\")\n",
    "      </pre>\n",
    "    </td>\n",
    "  </tr>\n",
    "  <tr>\n",
    "    <td>Eingabe prüfen (einfach)</td>\n",
    "    <td>Direkter Vergleich ohne Zusatzfunktionen.</td>\n",
    "    <td>\n",
    "      <pre>\n",
    "answer = input(\"a, b oder c: \")\n",
    "if answer == \"a\":\n",
    "    ...\n",
    "elif answer == \"b\":\n",
    "    ...\n",
    "else:\n",
    "    ...\n",
    "      </pre>\n",
    "    </td>\n",
    "  </tr>\n",
    "</table>\n"
   ]
  },
  {
   "cell_type": "code",
   "execution_count": null,
   "id": "7a035073-e196-4b84-9c07-23e51bdbe210",
   "metadata": {},
   "outputs": [],
   "source": []
  }
 ],
 "metadata": {
  "kernelspec": {
   "display_name": "Python [conda env:Orange]",
   "language": "python",
   "name": "conda-env-Orange-py"
  },
  "language_info": {
   "codemirror_mode": {
    "name": "ipython",
    "version": 3
   },
   "file_extension": ".py",
   "mimetype": "text/x-python",
   "name": "python",
   "nbconvert_exporter": "python",
   "pygments_lexer": "ipython3",
   "version": "3.11.8"
  }
 },
 "nbformat": 4,
 "nbformat_minor": 5
}
