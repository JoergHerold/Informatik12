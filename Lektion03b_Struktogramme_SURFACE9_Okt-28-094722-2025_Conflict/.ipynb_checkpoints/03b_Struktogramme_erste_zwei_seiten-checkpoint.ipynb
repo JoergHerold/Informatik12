{
 "cells": [
  {
   "cell_type": "markdown",
   "id": "d9e1f695",
   "metadata": {},
   "source": [
    "# Informatik\n",
    "\n",
    "**Datum:**  \n",
    "**Name:**  \n",
    "**Klasse:**  \n",
    "\n",
    "---"
   ]
  },
  {
   "cell_type": "markdown",
   "id": "783f05f3",
   "metadata": {},
   "source": [
    "## Lektion 3b: Grundlagen von Struktogrammen\n",
    "\n",
    "Struktogramme (Nassi-Shneiderman-Diagramme) sind grafische Darstellungen von Algorithmen, die den Ablauf und die Logik eines Programms übersichtlich visualisieren. Sie zerlegen komplexe Programme in einfache, klar gegliederte Blöcke und erleichtern so das Verstehen, Planen und Überprüfen von Code. Sie fördern eine systematische und fehlerarme Vorgehensweise bei der Programmentwicklung und verbessern die Qualität sowie Wartbarkeit des Codes.\n",
    "\n",
    "---"
   ]
  },
  {
   "cell_type": "markdown",
   "id": "64460428",
   "metadata": {},
   "source": [
    "### Sequenz  \n",
    "= Abfolge von Befehlen  \n",
    "\n",
    "### Selektion  \n",
    "= Auswahlentscheidung  \n",
    "\n",
    "### Iteration  \n",
    "= Wiederholung/Schleife"
   ]
  },
  {
   "cell_type": "markdown",
   "id": "2043bdff",
   "metadata": {},
   "source": [
    "![](assets/img_01.png)\n",
    "\n",
    "![](assets/img_02.png)\n",
    "\n",
    "![](assets/img_03.png)"
   ]
  },
  {
   "cell_type": "markdown",
   "id": "19517d32",
   "metadata": {},
   "source": [
    "Mit Struktogrammen lassen sich die Grundelemente der strukturierten Programmierung darstellen"
   ]
  },
  {
   "cell_type": "markdown",
   "id": "5306cc59",
   "metadata": {},
   "source": [
    "## Struktogramme lesen\n",
    "\n",
    "**Aufgabe:**  \n",
    "Welche Ausgabe erzeugt ein Programm nach dem folgenden Algorithmus, wenn ein Kunde drei Pullis gekauft hat?"
   ]
  },
  {
   "cell_type": "markdown",
   "id": "37475000",
   "metadata": {},
   "source": [
    "## Struktogramme schreiben\n",
    "\n",
    "**Aufgabe:**  \n",
    "Schreibe ein vollständiges Struktogramm für folgenden Sachverhalt:\n",
    "\n",
    "Ein Sachbearbeiter gibt den Listenpreis des Artikels, die Menge des gekauften Artikels und den Kundenstatus ein. Liegt der Wert des Einkaufs über 10.000,00 € erhält der Kunde einen Rabattsatz von 15 %, ansonsten lediglich 10%. Ist der Kunde „Stammkunde“ erhält er zusätzlich 4% Rabatt, als „treuer Kunde“ erhält er noch zusätzlich 2% Rabatt. Die Höhe des Rabatts in Euro wird berechnet und in Form eines Ausdrucks ausgegeben.\n"
   ]
  },
  {
   "cell_type": "markdown",
   "id": "ac914149",
   "metadata": {},
   "source": [
    "**Zusatzaufgabe:**  \n",
    "Implementieren Sie ihr Struktogramm"
   ]
  }
 ],
 "metadata": {
  "kernelspec": {
   "display_name": "Python 3",
   "name": "python3"
  }
 },
 "nbformat": 4,
 "nbformat_minor": 5
}
