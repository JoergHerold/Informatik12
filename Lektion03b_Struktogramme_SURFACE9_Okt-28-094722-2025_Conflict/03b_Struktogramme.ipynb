{
 "cells": [
  {
   "cell_type": "markdown",
   "id": "5357b861",
   "metadata": {},
   "source": [
    "# Lektion 3b: Grundlagen von Struktogrammen\n",
    "\n",
    "**Struktogramme (Nassi-Shneiderman-Diagramme)** sind grafische Darstellungen von Algorithmen, die den **Ablauf und die Logik eines Programms übersichtlich visualisieren**. Sie zerlegen komplexe Programme in einfache, klar gegliederte Blöcke und erleichtern so das **Verstehen, Planen und Überprüfen** von Code. Sie fördern eine **systematische und fehlerarme Vorgehensweise** bei der Programmentwicklung und verbessern die **Qualität sowie Wartbarkeit** des Codes."
   ]
  },
  {
   "cell_type": "markdown",
   "id": "a7842ac5-5b0d-44ef-933e-33a6cf62bef4",
   "metadata": {},
   "source": [
    "Mit Struktogrammen lassen sich die **Grundelemente der strukturierten Programmierung** darstellen"
   ]
  },
  {
   "cell_type": "markdown",
   "id": "e8f78342",
   "metadata": {},
   "source": [
    "![](img/grundelemente.png)\n"
   ]
  },
  {
   "cell_type": "markdown",
   "id": "b5058cb6",
   "metadata": {},
   "source": [
    "## Struktogramme lesen\n",
    "\n",
    "\n",
    "\n",
    "**Aufgabe:** Welche Ausgabe erzeugt ein Programm nach dem folgenden Algorithmus, wenn ein Kunde drei Pullis gekauft hat?"
   ]
  },
  {
   "cell_type": "markdown",
   "id": "99ec9c16",
   "metadata": {},
   "source": [
    "![](img/rabatt_anzahl.png)"
   ]
  },
  {
   "cell_type": "markdown",
   "id": "f8cf8208-2014-4aac-8166-27d7b9837724",
   "metadata": {},
   "source": [
    "**Ausgabe:**  "
   ]
  },
  {
   "cell_type": "markdown",
   "id": "7d33ea63",
   "metadata": {},
   "source": [
    "\n",
    "## Struktogramme schreiben\n",
    "\n",
    "\n",
    "\n",
    "**Aufgabe:** Schreiben Sie ein eigenes vollständiges Struktogramm für folgenden Sachverhalt: (Hinweis: **\"Blatt Papier nehmen und zeichnen!**)\n",
    "\n",
    "\n",
    "\n",
    "Ein Sachbearbeiter gibt den Listenpreis des Artikels, die Menge des gekauften Artikels und den Kundenstatus ein. Liegt der Wert des Einkaufs über 10.000,00 € erhält der Kunde einen Rabattsatz von 15 %, ansonsten lediglich 10%. Ist der Kunde „Stammkunde“ erhält er zusätzlich 4% Rabatt, als „treuer Kunde“ erhält er noch zusätzlich 2% Rabatt. Die Höhe des Rabatts in Euro wird berechnet und in Form eines Ausdrucks ausgegeben.\n",
    "\n",
    "\n",
    "\n",
    "**Zusatzaufgabe: Implementieren Sie ihr Struktogramm**\n",
    "\n",
    "\n"
   ]
  },
  {
   "cell_type": "code",
   "execution_count": null,
   "id": "fef91a38-2ec5-456a-ac67-6755bab53af5",
   "metadata": {},
   "outputs": [],
   "source": []
  }
 ],
 "metadata": {
  "kernelspec": {
   "display_name": "Python [conda env:Orange]",
   "language": "python",
   "name": "conda-env-Orange-py"
  },
  "language_info": {
   "codemirror_mode": {
    "name": "ipython",
    "version": 3
   },
   "file_extension": ".py",
   "mimetype": "text/x-python",
   "name": "python",
   "nbconvert_exporter": "python",
   "pygments_lexer": "ipython3",
   "version": "3.11.8"
  }
 },
 "nbformat": 4,
 "nbformat_minor": 5
}
