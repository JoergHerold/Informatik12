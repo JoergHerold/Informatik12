{
 "cells": [
  {
   "cell_type": "markdown",
   "id": "764155fe",
   "metadata": {},
   "source": [
    "# Informatik\n",
    "\n",
    "**Datum:**  \n",
    "\n",
    "**Name:**  \n",
    "**Klasse:**  "
   ]
  },
  {
   "cell_type": "markdown",
   "id": "bed89a9c",
   "metadata": {},
   "source": [
    "## **Übungen Auswahlentscheidungen in Python**"
   ]
  },
  {
   "cell_type": "markdown",
   "id": "93c60d3f",
   "metadata": {},
   "source": [
    "### **Aufgabe 1: Quadratische Gleichung**\n",
    "\n",
    "Das Programm soll eine quadratische Gleichung der Form:"
   ]
  },
  {
   "cell_type": "markdown",
   "id": "df9a7393",
   "metadata": {},
   "source": [
    "![](img/quadratic.png)"
   ]
  },
  {
   "cell_type": "markdown",
   "id": "5a22494f",
   "metadata": {},
   "source": [
    "lösen können. Der Nutzer gibt hierfür die Zahlen *a*, *b* und *c* ein. Das Programm prüft die **Diskriminante**:"
   ]
  },
  {
   "cell_type": "markdown",
   "id": "5f602568",
   "metadata": {},
   "source": [
    "![](img/discriminant.png)"
   ]
  },
  {
   "cell_type": "markdown",
   "id": "781b7343",
   "metadata": {},
   "source": [
    "ob diese positiv, null oder negativ ist und gibt dann aus, wie viele Lösungen es gibt und ggf. deren Werte."
   ]
  },
  {
   "cell_type": "markdown",
   "id": "be675fa9",
   "metadata": {},
   "source": [
    "![](img/mitternachtsformel.png)"
   ]
  },
  {
   "cell_type": "markdown",
   "id": "a7c3b11e",
   "metadata": {},
   "source": [
    "### **Aufgabe 2: BMI-Rechner**\n",
    "\n",
    "Programmieren Sie einen **BMI-Rechner**. Eingabe: *Körpergröße*, *Körpergewicht* und *Geschlecht*. Ausgabe: **BMI** und Hinweis, ob *Unter-*, *Normal-* oder *Übergewicht* vorliegt. Bei **Frauen** gilt ein BMI von **19 bis 24** als normal, bei **Männern** ein BMI von **20 bis 25**.\n",
    "\n",
    "**Formel:**"
   ]
  },
  {
   "cell_type": "markdown",
   "id": "3c13a9ce",
   "metadata": {},
   "source": [
    "![](img/bmi.png)"
   ]
  },
  {
   "cell_type": "markdown",
   "id": "80584aad",
   "metadata": {},
   "source": [
    "_Legende:_ m = Körpergewicht (kg), h = Körpergröße (m)"
   ]
  },
  {
   "cell_type": "markdown",
   "id": "aa9db418",
   "metadata": {},
   "source": [
    "---\n",
    "### LaTeX-Quelltext (Fallback zum Kopieren)\n",
    "\n",
    "**Quadratische Gleichung**\n",
    "\n",
    "```\n",
    "ax^{2} + bx + c = 0 \\quad (a \\ne 0)\n",
    "```\n",
    "\n",
    "**Diskriminante**\n",
    "\n",
    "```\n",
    "\\Delta = b^{2} - 4ac\n",
    "```\n",
    "\n",
    "**Mitternachtsformel**\n",
    "\n",
    "```\n",
    "x_{1,2} = \\frac{-b \\pm \\sqrt{b^{2} - 4ac}}{2a}\n",
    "```\n",
    "\n",
    "**BMI**\n",
    "\n",
    "```\n",
    "\\mathrm{BMI} = \\dfrac{m}{h^{2}}\n",
    "```\n"
   ]
  }
 ],
 "metadata": {
  "kernelspec": {
   "display_name": "Python 3",
   "name": "python3"
  }
 },
 "nbformat": 4,
 "nbformat_minor": 5
}
