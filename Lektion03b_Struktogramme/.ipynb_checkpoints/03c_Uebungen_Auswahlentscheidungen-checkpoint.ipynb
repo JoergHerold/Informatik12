{
 "cells": [
  {
   "cell_type": "markdown",
   "id": "a6107c14",
   "metadata": {},
   "source": [
    "## **Übungen Auswahlentscheidungen in Python**"
   ]
  },
  {
   "cell_type": "markdown",
   "id": "c197b566",
   "metadata": {},
   "source": [
    "### **Aufgabe 1: Quadratische Gleichung**\n",
    "\n",
    "Das Programm soll eine quadratische Gleichung der Form:\n",
    "\n",
    "<img src=\"img/quadratic.png\" style=\"width:30%;\">\n",
    "\n",
    "lösen können. Der Nutzer gibt hierfür die Zahlen *a*, *b* und *c* ein. Das Programm prüft die **Diskriminante**:\n",
    "\n",
    "<img src=\"img/discriminant.png\" style=\"width:30%;\">\n",
    "\n",
    "ob diese positiv, null oder negativ ist und gibt dann aus, wie viele Lösungen es gibt und ggf. deren Werte.\n",
    "\n",
    "<img src=\"img/mitternachtsformel.png\" style=\"width:40%;\">"
   ]
  },
  {
   "cell_type": "code",
   "execution_count": null,
   "id": "e800332a-a256-4a98-9824-b896575d01e0",
   "metadata": {},
   "outputs": [],
   "source": []
  },
  {
   "cell_type": "markdown",
   "id": "30302f8a",
   "metadata": {},
   "source": [
    "### **Aufgabe 2: BMI-Rechner**\n",
    "\n",
    "Programmieren Sie einen **BMI-Rechner**. Eingabe: *Körpergröße*, *Körpergewicht* und *Geschlecht*. Ausgabe: **BMI** und Hinweis, ob *Unter-*, *Normal-* oder *Übergewicht* vorliegt. Bei **Frauen** gilt ein BMI von **19 bis 24** als normal, bei **Männern** ein BMI von **20 bis 25**.\n",
    "\n",
    "**Formel:**\n",
    "\n",
    "<img src=\"img/bmi.png\" style=\"width:30%;\">\n",
    "\n",
    "_Legende:_ m = Körpergewicht (kg), h = Körpergröße (m)"
   ]
  },
  {
   "cell_type": "code",
   "execution_count": null,
   "id": "6d4d83e6-88b1-40de-8d66-4f06bc1640ea",
   "metadata": {},
   "outputs": [],
   "source": []
  }
 ],
 "metadata": {
  "kernelspec": {
   "display_name": "Python [conda env:Orange]",
   "language": "python",
   "name": "conda-env-Orange-py"
  },
  "language_info": {
   "codemirror_mode": {
    "name": "ipython",
    "version": 3
   },
   "file_extension": ".py",
   "mimetype": "text/x-python",
   "name": "python",
   "nbconvert_exporter": "python",
   "pygments_lexer": "ipython3",
   "version": "3.11.8"
  }
 },
 "nbformat": 4,
 "nbformat_minor": 5
}
