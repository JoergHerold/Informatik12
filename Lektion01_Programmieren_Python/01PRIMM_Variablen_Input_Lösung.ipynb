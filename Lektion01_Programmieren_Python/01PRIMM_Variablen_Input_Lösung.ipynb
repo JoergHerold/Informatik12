{
 "cells": [
  {
   "cell_type": "markdown",
   "id": "8c69df19",
   "metadata": {},
   "source": [
    "# PRIMM – Lesson 1: Programmieren in Python (mit Lösung)\n",
    "\n",
    "Dieses Notebook folgt dem **PRIMM-Ansatz**: *Vorhersagen (Predict), Ausführen (Run), Untersuchen (Investigate), Verändern (Modify), Erstellen (Make).*  \n",
    "\n",
    "Bitte arbeiten Sie das Notebook **der Reihe nach** durch. "
   ]
  },
  {
   "cell_type": "markdown",
   "id": "018f6f20",
   "metadata": {},
   "source": [
    "## Predict – Vorhersagen\n",
    "\n",
    "Lesen Sie das folgende Programm **ohne es auszuführen**.  \n",
    "- Was **glauben** Sie, macht das Programm?  \n",
    "- Welche Eingaben werden von Ihnen verlangt?  \n",
    "- Welche Ausgaben erscheinen auf dem Bildschirm?"
   ]
  },
  {
   "cell_type": "code",
   "execution_count": null,
   "id": "258e03b7",
   "metadata": {},
   "outputs": [],
   "source": [
    "# Starter-Programm Lesson 1\n",
    "name = \"Billy\"\n",
    "print(\"We want to know if you like progamming!\")\n",
    "print()\n",
    "print(\"Do you like programming \" + name + \"?\")\n",
    "answer = input()\n",
    "print(\"Great! You said \" + answer + \"!\")\n",
    "print(\"Let's learn some Python today\")"
   ]
  },
  {
   "cell_type": "markdown",
   "id": "6f1cb2b4-8f7c-42e6-bcb3-d8f2c5612d9f",
   "metadata": {},
   "source": [
    "Hier können Sie ihre **Antworten** schreiben und sich **Notizen** machen.\n",
    "Dazu **bitte Doppelklicken**!\n",
    "Sie können deiese **\"Markdown\"**-Zellen bei Bedarf auch einfach selbst einfügen. "
   ]
  },
  {
   "cell_type": "markdown",
   "id": "b3aa8d8b",
   "metadata": {},
   "source": [
    "## Run – Ausführen\n",
    "\n",
    "Führen Sie das Programm oben aus (▶️).  \n",
    "- Entspricht das Verhalten Ihrer Vermutung?\n",
    "- Falls nicht: Was genau war anders? Schreiben Sie sich stichpunktartig Notizen."
   ]
  },
  {
   "cell_type": "markdown",
   "id": "96faffeb-a0f2-4f93-beb7-7f93855d2ec2",
   "metadata": {},
   "source": []
  },
  {
   "cell_type": "markdown",
   "id": "c6ecb7f2",
   "metadata": {},
   "source": [
    "## Investigate – Untersuchen\n",
    "\n",
    "Beantworten Sie die Fragen zu diesem Programm:\n",
    "\n",
    "1. **Wie viele Variablen** kommen im Programm vor und **wofür** werden sie verwendet?  \n",
    "2. `print()` ist eine Funktion, die Text auf dem Bildschirm ausgibt. **Welche andere Funktion** kommt vor und **was macht sie?**  \n",
    "3. Wofür wird das **`+`** in diesem Programm verwendet?  \n",
    "4. Was passiert, wenn Sie `print()` **ohne Inhalt** in den Klammern verwenden?  \n",
    "\n",
    "> Halten Sie ihre Erkenntnisse fest, in dem Sie ihre Antworten als **Kommentare** (beginnen mit `#`) an den entsprechenden Stellen im Code des Starter-Programms einfügen."
   ]
  },
  {
   "cell_type": "markdown",
   "id": "78227999",
   "metadata": {},
   "source": [
    "## Modify – Verändern\n",
    "\n",
    "Führen Sie die folgenden Änderungen durch:\n",
    "\n",
    "1. Ändern Sie das Programm so, dass **Ihr eigener Name** anstelle von `Billy` verwendet wird.  \n",
    "2. Ändern Sie das Programm so, dass Sie die **Antwort direkt in derselben Zeile** wie die Frage eingeben können. *Hinweis:* Sie können `input(\"Ihre Frage ... \")` benutzen.  \n",
    "3. Ändern Sie das Programm so, dass **zu Beginn** nach dem **Namen der Benutzerin / des Benutzers** gefragt wird."
   ]
  },
  {
   "cell_type": "code",
   "execution_count": null,
   "id": "a15e7220",
   "metadata": {},
   "outputs": [],
   "source": [
    "# Aufgabe 1–3: Kopieren Sie das Starterprogramm einfach in diese Zelle und passen Sie es an."
   ]
  },
  {
   "cell_type": "markdown",
   "id": "a4c7c12f",
   "metadata": {},
   "source": [
    "## Make – Erstellen\n",
    "\n",
    "Schreiben Sie ein **neues Programm** (aufbauend auf dem ersten), das drei Fragen stellt und jeweils eine passende Rückmeldung gibt:\n",
    "\n",
    "- Wie **heißen** Sie?  \n",
    "- Was hatten Sie **zum Frühstück**?  \n",
    "- Was ist Ihre **Lieblingsfarbe**?  \n",
    "\n",
    "**Beispielprogramm**"
   ]
  },
  {
   "cell_type": "markdown",
   "id": "421b325d-8055-4561-889c-b7a3144c0a5e",
   "metadata": {},
   "source": [
    "![Beispielprogramm](img/greta1.png)\n"
   ]
  },
  {
   "cell_type": "code",
   "execution_count": null,
   "id": "d7471775",
   "metadata": {},
   "outputs": [],
   "source": [
    "# Schreiben Sie Ihr neues Programm hier."
   ]
  },
  {
   "cell_type": "markdown",
   "id": "d26d3693",
   "metadata": {},
   "source": [
    "### Erweiterung\n",
    "\n",
    "Fragen Sie die Benutzerin/den Benutzer nach dem **Alter** und geben Sie anschließend aus, wie alt die Person **am nächsten Geburtstag** sein wird.  \n",
    "*Hinweis:* Verwenden Sie dafür z. B. `int(input(\"How old are you?\"))` und bei der Ausgabe `str(...)` zur Umwandlung in Text."
   ]
  },
  {
   "cell_type": "code",
   "execution_count": null,
   "id": "a9a4a31f",
   "metadata": {},
   "outputs": [],
   "source": [
    "# Implementieren Sie die Erweiterung hier."
   ]
  },
  {
   "cell_type": "markdown",
   "id": "999c024e",
   "metadata": {},
   "source": [
    "---\n",
    "\n",
    "## Schlüsselbegriffe\n",
    "\n",
    "| Begriff | Bedeutung | Wie in Python? |\n",
    "|---|---|---|\n",
    "| **Variable** | Behälter für Werte, die sich im Programm ändern können | `name = \"Alex\"` |\n",
    "| **Input/Output** | Eingaben von der Tastatur / Ausgaben auf den Bildschirm | `input(...)`, `print(name)` |\n",
    "| **Zuweisung (Assignment)** | Einer Variablen einen Wert zuweisen  | `number = 56 # der Variablen number wird der Wert 56 zugewiesen` |\n",
    "\n",
    "**Wichtige Hinweise zu Python:**  \n",
    "- Python ist **case-sensitive**: `Name` und `name` sind verschieden.  \n",
    "- Der Doppelpunkt `:` leitet einen **Block** ein; alle Zeilen des Blocks müssen **gleich eingerückt** sein.  \n",
    "- Ein **NameError** tritt auf, wenn ein Bezeichner (z. B. Variablenname) nicht bekannt ist – häufig durch Tippfehler oder falsche Groß-/Kleinschreibung."
   ]
  },
  {
   "cell_type": "code",
   "execution_count": null,
   "id": "c7996375-733d-4114-bca8-a2af77d3e62d",
   "metadata": {},
   "outputs": [],
   "source": []
  },
  {
   "cell_type": "markdown",
   "id": "0015f34d",
   "metadata": {},
   "source": [
    "---"
   ]
  },
  {
   "cell_type": "markdown",
   "id": "d8b16586",
   "metadata": {},
   "source": [
    "## Lösungen & Hinweise (zu den üblichen Aufgabenformaten)"
   ]
  },
  {
   "cell_type": "markdown",
   "id": "32943928",
   "metadata": {},
   "source": [
    "### Investigate – Beispielantworten"
   ]
  },
  {
   "cell_type": "markdown",
   "id": "35a9465c",
   "metadata": {},
   "source": [
    "### Musterlösungen – Investigate (Untersuchen)\n",
    "\n",
    "1. **Variablen:** `name` (Text/String für einen Namen), `answer` (Text/String für die Eingabe).  \n",
    "2. **Weitere Funktion:** `input()` – liest eine Eingabe von der Tastatur als **String** ein.  \n",
    "3. **`+` Operator:** **String-Konkatenation** (Texte werden zusammengefügt).  \n",
    "4. **`print()` ohne Inhalt:** erzeugt eine **Leerzeile**."
   ]
  },
  {
   "cell_type": "markdown",
   "id": "98c25091",
   "metadata": {},
   "source": [
    "### Modify – mögliche Lösungsskizzen"
   ]
  },
  {
   "cell_type": "code",
   "execution_count": null,
   "id": "106782c6",
   "metadata": {},
   "outputs": [],
   "source": [
    "# Lösungsidee – Eigenen Namen einsetzen\n",
    "name = \"Max\"\n",
    "print(\"We want to know if you like programming!\")\n",
    "print()\n",
    "print(\"Do you like programming \" + name + \"?\")\n",
    "answer = input()\n",
    "print(\"Great! You said \" + answer + \"!\")\n",
    "print(\"Let's learn some Python today\")"
   ]
  },
  {
   "cell_type": "code",
   "execution_count": null,
   "id": "3b7c5ba8",
   "metadata": {},
   "outputs": [],
   "source": [
    "# Lösungsidee – Antwort in derselben Zeile erfassen\n",
    "name = \"Billy\"\n",
    "print(\"We want to know if you like progamming!\")\n",
    "print()\n",
    "answer = input(\"Do you like programming \" + name + \"? \")\n",
    "print(\"Great! You said \" + answer + \"!\")\n",
    "print(\"Let's learn some Python today\")"
   ]
  },
  {
   "cell_type": "code",
   "execution_count": null,
   "id": "c43f7931",
   "metadata": {},
   "outputs": [],
   "source": [
    "# Lösungidee – Zu Beginn nach dem Namen fragen\n",
    "name = input(\"What is your name? \")\n",
    "print(\"We want to know if you like programming!\")\n",
    "print()\n",
    "answer = input(\"Do you like programming \" + name + \"? \")\n",
    "print(\"Great! You said \" + answer + \"!\")\n",
    "print(\"Let's learn some Python today\")"
   ]
  },
  {
   "cell_type": "markdown",
   "id": "45189f8f",
   "metadata": {},
   "source": [
    "### Make – Beispielprogramm"
   ]
  },
  {
   "cell_type": "code",
   "execution_count": null,
   "id": "34841312",
   "metadata": {},
   "outputs": [],
   "source": [
    "# Beispielprogramm – Drei Fragen\n",
    "name = input(\"What is your name? \")\n",
    "print(\"Hello \" + name)\n",
    "print()\n",
    "breakfast = input(\"What did you have for breakfast, \" + name + \"? \")\n",
    "print(\"Great! \" + breakfast + \" sounds delicious.\")\n",
    "colour = input(\"What is your favourite colour, \" + name + \"? \")\n",
    "print(\"My favourite colour is \" + colour + \" too!\")"
   ]
  },
  {
   "cell_type": "markdown",
   "id": "5479248b",
   "metadata": {},
   "source": [
    "### Erweiterung – Beispiel"
   ]
  },
  {
   "cell_type": "code",
   "execution_count": null,
   "id": "e0799822",
   "metadata": {},
   "outputs": [],
   "source": [
    "# Erweiterung – Alter nächster Geburtstag\n",
    "name = input(\"What is your name? \")\n",
    "age = int(input(\"How old are you \" + name + \"? \"))\n",
    "newage = age + 1\n",
    "print(\"Thank you - that means you will be \" + str(newage) + \" next birthday\")"
   ]
  }
 ],
 "metadata": {
  "kernelspec": {
   "display_name": "Python [conda env:Orange]",
   "language": "python",
   "name": "conda-env-Orange-py"
  },
  "language_info": {
   "codemirror_mode": {
    "name": "ipython",
    "version": 3
   },
   "file_extension": ".py",
   "mimetype": "text/x-python",
   "name": "python",
   "nbconvert_exporter": "python",
   "pygments_lexer": "ipython3",
   "version": "3.11.8"
  }
 },
 "nbformat": 4,
 "nbformat_minor": 5
}
